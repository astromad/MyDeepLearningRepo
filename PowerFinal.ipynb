{
  "nbformat": 4,
  "nbformat_minor": 0,
  "metadata": {
    "colab": {
      "provenance": [],
      "machine_shape": "hm",
      "authorship_tag": "ABX9TyM7yMlX4fEmovgS2J0kzAXL",
      "include_colab_link": true
    },
    "kernelspec": {
      "name": "python3",
      "display_name": "Python 3"
    },
    "language_info": {
      "name": "python"
    },
    "accelerator": "TPU",
    "gpuClass": "standard"
  },
  "cells": [
    {
      "cell_type": "markdown",
      "metadata": {
        "id": "view-in-github",
        "colab_type": "text"
      },
      "source": [
        "<a href=\"https://colab.research.google.com/github/astromad/MyDeepLearningRepo/blob/master/PowerFinal.ipynb\" target=\"_parent\"><img src=\"https://colab.research.google.com/assets/colab-badge.svg\" alt=\"Open In Colab\"/></a>"
      ]
    },
    {
      "cell_type": "code",
      "execution_count": 2,
      "metadata": {
        "colab": {
          "base_uri": "https://localhost:8080/"
        },
        "id": "9AFDftb9OJHv",
        "outputId": "5fddc0de-5b73-4219-8f77-4c18556c741e"
      },
      "outputs": [
        {
          "output_type": "stream",
          "name": "stdout",
          "text": [
            "Drive already mounted at /content/drive; to attempt to forcibly remount, call drive.mount(\"/content/drive\", force_remount=True).\n"
          ]
        }
      ],
      "source": [
        "from google.colab import drive\n",
        "drive.mount('/content/drive')"
      ]
    },
    {
      "cell_type": "code",
      "source": [
        "#!pip install sklearn"
      ],
      "metadata": {
        "id": "M_NBbCTAQ0yP"
      },
      "execution_count": 3,
      "outputs": []
    },
    {
      "cell_type": "code",
      "source": [
        "import numpy as np\n",
        "import pandas as pd\n",
        "from pandas import read_csv\n",
        "import tensorflow as tf\n",
        "from tensorflow import keras\n",
        "from keras.models import Sequential\n",
        "from keras.layers.core import Dense\n",
        "from keras.layers import LSTM\n",
        "from keras.layers import Dense, Dropout, Activation\n",
        "from sklearn.preprocessing import StandardScaler"
      ],
      "metadata": {
        "id": "_hnEQqrrOS3A"
      },
      "execution_count": 4,
      "outputs": []
    },
    {
      "cell_type": "code",
      "source": [
        "path = '/content/drive/MyDrive/ColabData/Power/PowerUseThis.csv'\n",
        "\n",
        "COLS = [4,5,6,7,8,9]\n",
        "df = read_csv(path,usecols=COLS)\n",
        "df.head(10)\n"
      ],
      "metadata": {
        "colab": {
          "base_uri": "https://localhost:8080/",
          "height": 363
        },
        "id": "22f5EzUyOuj8",
        "outputId": "c0f1ab99-8da0-4f00-95f2-1077b7e42a96"
      },
      "execution_count": 5,
      "outputs": [
        {
          "output_type": "execute_result",
          "data": {
            "text/plain": [
              "   37  52  22  36  17  24\n",
              "0  22  54  52  14  59   4\n",
              "1  29   8  37  38   5  34\n",
              "2  14  10  40  51  30   1\n",
              "3  36   7  26   8  19  15\n",
              "4  13  54  41  37  27  32\n",
              "5  50  17  57  35   4  12\n",
              "6  47  18  58  53  51  30\n",
              "7  14  49   9   7  45  23\n",
              "8  41  33  10  59  29  15\n",
              "9  41  37  17  50  21   1"
            ],
            "text/html": [
              "\n",
              "  <div id=\"df-4b791bdb-8d40-4940-82f8-adbf5208e429\">\n",
              "    <div class=\"colab-df-container\">\n",
              "      <div>\n",
              "<style scoped>\n",
              "    .dataframe tbody tr th:only-of-type {\n",
              "        vertical-align: middle;\n",
              "    }\n",
              "\n",
              "    .dataframe tbody tr th {\n",
              "        vertical-align: top;\n",
              "    }\n",
              "\n",
              "    .dataframe thead th {\n",
              "        text-align: right;\n",
              "    }\n",
              "</style>\n",
              "<table border=\"1\" class=\"dataframe\">\n",
              "  <thead>\n",
              "    <tr style=\"text-align: right;\">\n",
              "      <th></th>\n",
              "      <th>37</th>\n",
              "      <th>52</th>\n",
              "      <th>22</th>\n",
              "      <th>36</th>\n",
              "      <th>17</th>\n",
              "      <th>24</th>\n",
              "    </tr>\n",
              "  </thead>\n",
              "  <tbody>\n",
              "    <tr>\n",
              "      <th>0</th>\n",
              "      <td>22</td>\n",
              "      <td>54</td>\n",
              "      <td>52</td>\n",
              "      <td>14</td>\n",
              "      <td>59</td>\n",
              "      <td>4</td>\n",
              "    </tr>\n",
              "    <tr>\n",
              "      <th>1</th>\n",
              "      <td>29</td>\n",
              "      <td>8</td>\n",
              "      <td>37</td>\n",
              "      <td>38</td>\n",
              "      <td>5</td>\n",
              "      <td>34</td>\n",
              "    </tr>\n",
              "    <tr>\n",
              "      <th>2</th>\n",
              "      <td>14</td>\n",
              "      <td>10</td>\n",
              "      <td>40</td>\n",
              "      <td>51</td>\n",
              "      <td>30</td>\n",
              "      <td>1</td>\n",
              "    </tr>\n",
              "    <tr>\n",
              "      <th>3</th>\n",
              "      <td>36</td>\n",
              "      <td>7</td>\n",
              "      <td>26</td>\n",
              "      <td>8</td>\n",
              "      <td>19</td>\n",
              "      <td>15</td>\n",
              "    </tr>\n",
              "    <tr>\n",
              "      <th>4</th>\n",
              "      <td>13</td>\n",
              "      <td>54</td>\n",
              "      <td>41</td>\n",
              "      <td>37</td>\n",
              "      <td>27</td>\n",
              "      <td>32</td>\n",
              "    </tr>\n",
              "    <tr>\n",
              "      <th>5</th>\n",
              "      <td>50</td>\n",
              "      <td>17</td>\n",
              "      <td>57</td>\n",
              "      <td>35</td>\n",
              "      <td>4</td>\n",
              "      <td>12</td>\n",
              "    </tr>\n",
              "    <tr>\n",
              "      <th>6</th>\n",
              "      <td>47</td>\n",
              "      <td>18</td>\n",
              "      <td>58</td>\n",
              "      <td>53</td>\n",
              "      <td>51</td>\n",
              "      <td>30</td>\n",
              "    </tr>\n",
              "    <tr>\n",
              "      <th>7</th>\n",
              "      <td>14</td>\n",
              "      <td>49</td>\n",
              "      <td>9</td>\n",
              "      <td>7</td>\n",
              "      <td>45</td>\n",
              "      <td>23</td>\n",
              "    </tr>\n",
              "    <tr>\n",
              "      <th>8</th>\n",
              "      <td>41</td>\n",
              "      <td>33</td>\n",
              "      <td>10</td>\n",
              "      <td>59</td>\n",
              "      <td>29</td>\n",
              "      <td>15</td>\n",
              "    </tr>\n",
              "    <tr>\n",
              "      <th>9</th>\n",
              "      <td>41</td>\n",
              "      <td>37</td>\n",
              "      <td>17</td>\n",
              "      <td>50</td>\n",
              "      <td>21</td>\n",
              "      <td>1</td>\n",
              "    </tr>\n",
              "  </tbody>\n",
              "</table>\n",
              "</div>\n",
              "      <button class=\"colab-df-convert\" onclick=\"convertToInteractive('df-4b791bdb-8d40-4940-82f8-adbf5208e429')\"\n",
              "              title=\"Convert this dataframe to an interactive table.\"\n",
              "              style=\"display:none;\">\n",
              "        \n",
              "  <svg xmlns=\"http://www.w3.org/2000/svg\" height=\"24px\"viewBox=\"0 0 24 24\"\n",
              "       width=\"24px\">\n",
              "    <path d=\"M0 0h24v24H0V0z\" fill=\"none\"/>\n",
              "    <path d=\"M18.56 5.44l.94 2.06.94-2.06 2.06-.94-2.06-.94-.94-2.06-.94 2.06-2.06.94zm-11 1L8.5 8.5l.94-2.06 2.06-.94-2.06-.94L8.5 2.5l-.94 2.06-2.06.94zm10 10l.94 2.06.94-2.06 2.06-.94-2.06-.94-.94-2.06-.94 2.06-2.06.94z\"/><path d=\"M17.41 7.96l-1.37-1.37c-.4-.4-.92-.59-1.43-.59-.52 0-1.04.2-1.43.59L10.3 9.45l-7.72 7.72c-.78.78-.78 2.05 0 2.83L4 21.41c.39.39.9.59 1.41.59.51 0 1.02-.2 1.41-.59l7.78-7.78 2.81-2.81c.8-.78.8-2.07 0-2.86zM5.41 20L4 18.59l7.72-7.72 1.47 1.35L5.41 20z\"/>\n",
              "  </svg>\n",
              "      </button>\n",
              "      \n",
              "  <style>\n",
              "    .colab-df-container {\n",
              "      display:flex;\n",
              "      flex-wrap:wrap;\n",
              "      gap: 12px;\n",
              "    }\n",
              "\n",
              "    .colab-df-convert {\n",
              "      background-color: #E8F0FE;\n",
              "      border: none;\n",
              "      border-radius: 50%;\n",
              "      cursor: pointer;\n",
              "      display: none;\n",
              "      fill: #1967D2;\n",
              "      height: 32px;\n",
              "      padding: 0 0 0 0;\n",
              "      width: 32px;\n",
              "    }\n",
              "\n",
              "    .colab-df-convert:hover {\n",
              "      background-color: #E2EBFA;\n",
              "      box-shadow: 0px 1px 2px rgba(60, 64, 67, 0.3), 0px 1px 3px 1px rgba(60, 64, 67, 0.15);\n",
              "      fill: #174EA6;\n",
              "    }\n",
              "\n",
              "    [theme=dark] .colab-df-convert {\n",
              "      background-color: #3B4455;\n",
              "      fill: #D2E3FC;\n",
              "    }\n",
              "\n",
              "    [theme=dark] .colab-df-convert:hover {\n",
              "      background-color: #434B5C;\n",
              "      box-shadow: 0px 1px 3px 1px rgba(0, 0, 0, 0.15);\n",
              "      filter: drop-shadow(0px 1px 2px rgba(0, 0, 0, 0.3));\n",
              "      fill: #FFFFFF;\n",
              "    }\n",
              "  </style>\n",
              "\n",
              "      <script>\n",
              "        const buttonEl =\n",
              "          document.querySelector('#df-4b791bdb-8d40-4940-82f8-adbf5208e429 button.colab-df-convert');\n",
              "        buttonEl.style.display =\n",
              "          google.colab.kernel.accessAllowed ? 'block' : 'none';\n",
              "\n",
              "        async function convertToInteractive(key) {\n",
              "          const element = document.querySelector('#df-4b791bdb-8d40-4940-82f8-adbf5208e429');\n",
              "          const dataTable =\n",
              "            await google.colab.kernel.invokeFunction('convertToInteractive',\n",
              "                                                     [key], {});\n",
              "          if (!dataTable) return;\n",
              "\n",
              "          const docLinkHtml = 'Like what you see? Visit the ' +\n",
              "            '<a target=\"_blank\" href=https://colab.research.google.com/notebooks/data_table.ipynb>data table notebook</a>'\n",
              "            + ' to learn more about interactive tables.';\n",
              "          element.innerHTML = '';\n",
              "          dataTable['output_type'] = 'display_data';\n",
              "          await google.colab.output.renderOutput(dataTable, element);\n",
              "          const docLink = document.createElement('div');\n",
              "          docLink.innerHTML = docLinkHtml;\n",
              "          element.appendChild(docLink);\n",
              "        }\n",
              "      </script>\n",
              "    </div>\n",
              "  </div>\n",
              "  "
            ]
          },
          "metadata": {},
          "execution_count": 5
        }
      ]
    },
    {
      "cell_type": "code",
      "source": [
        "df['24'].value_counts().nlargest(n=5)"
      ],
      "metadata": {
        "colab": {
          "base_uri": "https://localhost:8080/"
        },
        "id": "adK_TmNCtf9Z",
        "outputId": "a5cb83a1-507d-4a8e-f410-9f5d33614bc8"
      },
      "execution_count": 6,
      "outputs": [
        {
          "output_type": "execute_result",
          "data": {
            "text/plain": [
              "24    64\n",
              "18    60\n",
              "13    50\n",
              "4     49\n",
              "10    49\n",
              "Name: 24, dtype: int64"
            ]
          },
          "metadata": {},
          "execution_count": 6
        }
      ]
    },
    {
      "cell_type": "code",
      "source": [
        "scalar = StandardScaler().fit(df.values)\n",
        "tf_data = scalar.transform(df.values)\n",
        "tf_df = pd.DataFrame(data=tf_data, index=df.index)"
      ],
      "metadata": {
        "id": "CJIfzWEtQDk8"
      },
      "execution_count": 7,
      "outputs": []
    },
    {
      "cell_type": "code",
      "source": [
        "rows = df.values.shape[0]\n",
        "window =10\n",
        "features = df.values.shape[1]"
      ],
      "metadata": {
        "id": "NaDayYaCSMh8"
      },
      "execution_count": 8,
      "outputs": []
    },
    {
      "cell_type": "code",
      "source": [
        "train = np.empty([rows - window, window, features],dtype = float)\n",
        "label = np.empty([rows-window,features],dtype = float)\n",
        "for i in range(0,rows-window):\n",
        "  train[i] = tf_df.iloc[i:i+window, 0:features]\n",
        "  label[i] = tf_df.iloc[i+window:i+window+1,0:features]"
      ],
      "metadata": {
        "id": "QbiF0pgJTHen"
      },
      "execution_count": 9,
      "outputs": []
    },
    {
      "cell_type": "code",
      "source": [
        "batch_size = 6\n",
        "model = Sequential()\n",
        "model.add(LSTM(150,activation='relu',input_shape=(window,features),return_sequences=True))\n",
        "model.add(Dropout(0.3))\n",
        "model.add(LSTM(56,activation='relu',return_sequences=True))\n",
        "model.add(Dropout(0.2))\n",
        "model.add(LSTM(30,activation='relu',return_sequences=False))\n",
        "model.add(Dropout(0.1))\n",
        "model.add(Dense(features))\n",
        "model.compile(loss='mse',optimizer='adam',metrics=['accuracy'])\n"
      ],
      "metadata": {
        "id": "YAPPFmaYUtHp"
      },
      "execution_count": 31,
      "outputs": []
    },
    {
      "cell_type": "code",
      "source": [
        "model.fit(train,label,batch_size=batch_size,epochs=100)"
      ],
      "metadata": {
        "colab": {
          "base_uri": "https://localhost:8080/"
        },
        "id": "eUHB_QQJV6Av",
        "outputId": "1b0ba9ae-a609-4e8d-aef2-23e77c09e35f"
      },
      "execution_count": 32,
      "outputs": [
        {
          "output_type": "stream",
          "name": "stdout",
          "text": [
            "Epoch 1/100\n",
            "231/231 [==============================] - 7s 16ms/step - loss: 1.0007 - accuracy: 0.1827\n",
            "Epoch 2/100\n",
            "231/231 [==============================] - 4s 17ms/step - loss: 0.9922 - accuracy: 0.2159\n",
            "Epoch 3/100\n",
            "231/231 [==============================] - 4s 17ms/step - loss: 0.9857 - accuracy: 0.2404\n",
            "Epoch 4/100\n",
            "231/231 [==============================] - 4s 18ms/step - loss: 0.9846 - accuracy: 0.2419\n",
            "Epoch 5/100\n",
            "231/231 [==============================] - 5s 20ms/step - loss: 0.9802 - accuracy: 0.2455\n",
            "Epoch 6/100\n",
            "231/231 [==============================] - 5s 20ms/step - loss: 0.9776 - accuracy: 0.2462\n",
            "Epoch 7/100\n",
            "231/231 [==============================] - 4s 18ms/step - loss: 0.9771 - accuracy: 0.2527\n",
            "Epoch 8/100\n",
            "231/231 [==============================] - 4s 18ms/step - loss: 0.9767 - accuracy: 0.2318\n",
            "Epoch 9/100\n",
            "231/231 [==============================] - 4s 19ms/step - loss: 0.9732 - accuracy: 0.2534\n",
            "Epoch 10/100\n",
            "231/231 [==============================] - 4s 19ms/step - loss: 0.9685 - accuracy: 0.2491\n",
            "Epoch 11/100\n",
            "231/231 [==============================] - 4s 18ms/step - loss: 0.9649 - accuracy: 0.2549\n",
            "Epoch 12/100\n",
            "231/231 [==============================] - 4s 18ms/step - loss: 0.9658 - accuracy: 0.2491\n",
            "Epoch 13/100\n",
            "231/231 [==============================] - 4s 19ms/step - loss: 0.9613 - accuracy: 0.2787\n",
            "Epoch 14/100\n",
            "231/231 [==============================] - 4s 18ms/step - loss: 0.9590 - accuracy: 0.2686\n",
            "Epoch 15/100\n",
            "231/231 [==============================] - 4s 18ms/step - loss: 0.9571 - accuracy: 0.2657\n",
            "Epoch 16/100\n",
            "231/231 [==============================] - 4s 18ms/step - loss: 0.9546 - accuracy: 0.2700\n",
            "Epoch 17/100\n",
            "231/231 [==============================] - 4s 18ms/step - loss: 0.9452 - accuracy: 0.2549\n",
            "Epoch 18/100\n",
            "231/231 [==============================] - 4s 18ms/step - loss: 0.9394 - accuracy: 0.2744\n",
            "Epoch 19/100\n",
            "231/231 [==============================] - 4s 18ms/step - loss: 0.9347 - accuracy: 0.2939\n",
            "Epoch 20/100\n",
            "231/231 [==============================] - 4s 18ms/step - loss: 0.9254 - accuracy: 0.2816\n",
            "Epoch 21/100\n",
            "231/231 [==============================] - 4s 18ms/step - loss: 1.0363 - accuracy: 0.2960\n",
            "Epoch 22/100\n",
            "231/231 [==============================] - 4s 18ms/step - loss: 0.9244 - accuracy: 0.2816\n",
            "Epoch 23/100\n",
            "231/231 [==============================] - 4s 18ms/step - loss: 0.9185 - accuracy: 0.2888\n",
            "Epoch 24/100\n",
            "231/231 [==============================] - 4s 18ms/step - loss: 0.9085 - accuracy: 0.3083\n",
            "Epoch 25/100\n",
            "231/231 [==============================] - 4s 18ms/step - loss: 0.8970 - accuracy: 0.3105\n",
            "Epoch 26/100\n",
            "231/231 [==============================] - 4s 18ms/step - loss: 0.8857 - accuracy: 0.3235\n",
            "Epoch 27/100\n",
            "231/231 [==============================] - 4s 18ms/step - loss: 0.8775 - accuracy: 0.3256\n",
            "Epoch 28/100\n",
            "231/231 [==============================] - 4s 18ms/step - loss: 0.8586 - accuracy: 0.3227\n",
            "Epoch 29/100\n",
            "231/231 [==============================] - 4s 18ms/step - loss: 0.8604 - accuracy: 0.3256\n",
            "Epoch 30/100\n",
            "231/231 [==============================] - 4s 19ms/step - loss: 0.8407 - accuracy: 0.3379\n",
            "Epoch 31/100\n",
            "231/231 [==============================] - 5s 20ms/step - loss: 0.8296 - accuracy: 0.3415\n",
            "Epoch 32/100\n",
            "231/231 [==============================] - 5s 20ms/step - loss: 0.8198 - accuracy: 0.3697\n",
            "Epoch 33/100\n",
            "231/231 [==============================] - 5s 20ms/step - loss: 0.7952 - accuracy: 0.3812\n",
            "Epoch 34/100\n",
            "231/231 [==============================] - 5s 21ms/step - loss: 0.7898 - accuracy: 0.3755\n",
            "Epoch 35/100\n",
            "231/231 [==============================] - 5s 21ms/step - loss: 0.7728 - accuracy: 0.3740\n",
            "Epoch 36/100\n",
            "231/231 [==============================] - 5s 20ms/step - loss: 0.7581 - accuracy: 0.3949\n",
            "Epoch 37/100\n",
            "231/231 [==============================] - 5s 20ms/step - loss: 0.7507 - accuracy: 0.3747\n",
            "Epoch 38/100\n",
            "231/231 [==============================] - 5s 20ms/step - loss: 0.7361 - accuracy: 0.4036\n",
            "Epoch 39/100\n",
            "231/231 [==============================] - 5s 21ms/step - loss: 0.7123 - accuracy: 0.4231\n",
            "Epoch 40/100\n",
            "231/231 [==============================] - 5s 21ms/step - loss: 0.6999 - accuracy: 0.4282\n",
            "Epoch 41/100\n",
            "231/231 [==============================] - 5s 21ms/step - loss: 0.6879 - accuracy: 0.4310\n",
            "Epoch 42/100\n",
            "231/231 [==============================] - 5s 21ms/step - loss: 0.6613 - accuracy: 0.4455\n",
            "Epoch 43/100\n",
            "231/231 [==============================] - 5s 21ms/step - loss: 0.6526 - accuracy: 0.4433\n",
            "Epoch 44/100\n",
            "231/231 [==============================] - 5s 21ms/step - loss: 0.6390 - accuracy: 0.4628\n",
            "Epoch 45/100\n",
            "231/231 [==============================] - 5s 20ms/step - loss: 0.6278 - accuracy: 0.4578\n",
            "Epoch 46/100\n",
            "231/231 [==============================] - 5s 20ms/step - loss: 0.6131 - accuracy: 0.4513\n",
            "Epoch 47/100\n",
            "231/231 [==============================] - 5s 20ms/step - loss: 0.5989 - accuracy: 0.4816\n",
            "Epoch 48/100\n",
            "231/231 [==============================] - 5s 20ms/step - loss: 0.5889 - accuracy: 0.4874\n",
            "Epoch 49/100\n",
            "231/231 [==============================] - 5s 20ms/step - loss: 0.5850 - accuracy: 0.4801\n",
            "Epoch 50/100\n",
            "231/231 [==============================] - 5s 21ms/step - loss: 0.5581 - accuracy: 0.4968\n",
            "Epoch 51/100\n",
            "231/231 [==============================] - 4s 18ms/step - loss: 0.5457 - accuracy: 0.4975\n",
            "Epoch 52/100\n",
            "231/231 [==============================] - 4s 18ms/step - loss: 0.5303 - accuracy: 0.5047\n",
            "Epoch 53/100\n",
            "231/231 [==============================] - 4s 18ms/step - loss: 0.5193 - accuracy: 0.5119\n",
            "Epoch 54/100\n",
            "231/231 [==============================] - 4s 18ms/step - loss: 0.5159 - accuracy: 0.5162\n",
            "Epoch 55/100\n",
            "231/231 [==============================] - 4s 18ms/step - loss: 0.4957 - accuracy: 0.5430\n",
            "Epoch 56/100\n",
            "231/231 [==============================] - 4s 18ms/step - loss: 0.4794 - accuracy: 0.5552\n",
            "Epoch 57/100\n",
            "231/231 [==============================] - 4s 19ms/step - loss: 0.4740 - accuracy: 0.5350\n",
            "Epoch 58/100\n",
            "231/231 [==============================] - 4s 18ms/step - loss: 0.4952 - accuracy: 0.5155\n",
            "Epoch 59/100\n",
            "231/231 [==============================] - 4s 18ms/step - loss: 0.4668 - accuracy: 0.5235\n",
            "Epoch 60/100\n",
            "231/231 [==============================] - 4s 19ms/step - loss: 0.4519 - accuracy: 0.5422\n",
            "Epoch 61/100\n",
            "231/231 [==============================] - 4s 18ms/step - loss: 0.4512 - accuracy: 0.5314\n",
            "Epoch 62/100\n",
            "231/231 [==============================] - 4s 19ms/step - loss: 0.4387 - accuracy: 0.5560\n",
            "Epoch 63/100\n",
            "231/231 [==============================] - 4s 18ms/step - loss: 0.4192 - accuracy: 0.5704\n",
            "Epoch 64/100\n",
            "231/231 [==============================] - 4s 18ms/step - loss: 0.4037 - accuracy: 0.5755\n",
            "Epoch 65/100\n",
            "231/231 [==============================] - 4s 18ms/step - loss: 0.3998 - accuracy: 0.5769\n",
            "Epoch 66/100\n",
            "231/231 [==============================] - 4s 18ms/step - loss: 0.3993 - accuracy: 0.5848\n",
            "Epoch 67/100\n",
            "231/231 [==============================] - 4s 18ms/step - loss: 0.3848 - accuracy: 0.5848\n",
            "Epoch 68/100\n",
            "231/231 [==============================] - 4s 18ms/step - loss: 0.3744 - accuracy: 0.5791\n",
            "Epoch 69/100\n",
            "231/231 [==============================] - 4s 18ms/step - loss: 0.3692 - accuracy: 0.5957\n",
            "Epoch 70/100\n",
            "231/231 [==============================] - 4s 18ms/step - loss: 0.3564 - accuracy: 0.6043\n",
            "Epoch 71/100\n",
            "231/231 [==============================] - 4s 18ms/step - loss: 0.3505 - accuracy: 0.6079\n",
            "Epoch 72/100\n",
            "231/231 [==============================] - 4s 18ms/step - loss: 0.3475 - accuracy: 0.6036\n",
            "Epoch 73/100\n",
            "231/231 [==============================] - 4s 17ms/step - loss: 0.3402 - accuracy: 0.5899\n",
            "Epoch 74/100\n",
            "231/231 [==============================] - 4s 17ms/step - loss: 0.3287 - accuracy: 0.6043\n",
            "Epoch 75/100\n",
            "231/231 [==============================] - 4s 18ms/step - loss: 0.3206 - accuracy: 0.6123\n",
            "Epoch 76/100\n",
            "231/231 [==============================] - 4s 18ms/step - loss: 0.3210 - accuracy: 0.6289\n",
            "Epoch 77/100\n",
            "231/231 [==============================] - 4s 18ms/step - loss: 0.3144 - accuracy: 0.6144\n",
            "Epoch 78/100\n",
            "231/231 [==============================] - 4s 18ms/step - loss: 0.3106 - accuracy: 0.6202\n",
            "Epoch 79/100\n",
            "231/231 [==============================] - 4s 18ms/step - loss: 0.3043 - accuracy: 0.5964\n",
            "Epoch 80/100\n",
            "231/231 [==============================] - 4s 18ms/step - loss: 0.3009 - accuracy: 0.6318\n",
            "Epoch 81/100\n",
            "231/231 [==============================] - 4s 18ms/step - loss: 0.3002 - accuracy: 0.6289\n",
            "Epoch 82/100\n",
            "231/231 [==============================] - 4s 18ms/step - loss: 0.2945 - accuracy: 0.6217\n",
            "Epoch 83/100\n",
            "231/231 [==============================] - 4s 18ms/step - loss: 0.2774 - accuracy: 0.6433\n",
            "Epoch 84/100\n",
            "231/231 [==============================] - 4s 18ms/step - loss: 0.2841 - accuracy: 0.6267\n",
            "Epoch 85/100\n",
            "231/231 [==============================] - 4s 18ms/step - loss: 0.2814 - accuracy: 0.6245\n",
            "Epoch 86/100\n",
            "231/231 [==============================] - 4s 17ms/step - loss: 0.2742 - accuracy: 0.6260\n",
            "Epoch 87/100\n",
            "231/231 [==============================] - 4s 17ms/step - loss: 0.2628 - accuracy: 0.6260\n",
            "Epoch 88/100\n",
            "231/231 [==============================] - 4s 18ms/step - loss: 0.2691 - accuracy: 0.6520\n",
            "Epoch 89/100\n",
            "231/231 [==============================] - 4s 18ms/step - loss: 0.2646 - accuracy: 0.6397\n",
            "Epoch 90/100\n",
            "231/231 [==============================] - 4s 18ms/step - loss: 0.2595 - accuracy: 0.6606\n",
            "Epoch 91/100\n",
            "231/231 [==============================] - 4s 18ms/step - loss: 0.2551 - accuracy: 0.6570\n",
            "Epoch 92/100\n",
            "231/231 [==============================] - 4s 17ms/step - loss: 0.2512 - accuracy: 0.6498\n",
            "Epoch 93/100\n",
            "231/231 [==============================] - 4s 18ms/step - loss: 0.2466 - accuracy: 0.6729\n",
            "Epoch 94/100\n",
            "231/231 [==============================] - 4s 18ms/step - loss: 0.2466 - accuracy: 0.6383\n",
            "Epoch 95/100\n",
            "231/231 [==============================] - 4s 18ms/step - loss: 0.2426 - accuracy: 0.6520\n",
            "Epoch 96/100\n",
            "231/231 [==============================] - 4s 18ms/step - loss: 0.2392 - accuracy: 0.6491\n",
            "Epoch 97/100\n",
            "231/231 [==============================] - 4s 18ms/step - loss: 0.2326 - accuracy: 0.6657\n",
            "Epoch 98/100\n",
            "231/231 [==============================] - 4s 18ms/step - loss: 0.2267 - accuracy: 0.6679\n",
            "Epoch 99/100\n",
            "231/231 [==============================] - 4s 18ms/step - loss: 0.2330 - accuracy: 0.6722\n",
            "Epoch 100/100\n",
            "231/231 [==============================] - 4s 18ms/step - loss: 0.2181 - accuracy: 0.6838\n"
          ]
        },
        {
          "output_type": "execute_result",
          "data": {
            "text/plain": [
              "<keras.callbacks.History at 0x7f895e3d0fd0>"
            ]
          },
          "metadata": {},
          "execution_count": 32
        }
      ]
    },
    {
      "cell_type": "code",
      "source": [
        "to_predict= scalar.transform(df.tail(10).values)"
      ],
      "metadata": {
        "id": "UqY0CE4NX-bU"
      },
      "execution_count": 35,
      "outputs": []
    },
    {
      "cell_type": "code",
      "source": [
        "output = model.predict(np.array([to_predict]))\n",
        "print(scalar.inverse_transform(output).astype(int)[0])"
      ],
      "metadata": {
        "colab": {
          "base_uri": "https://localhost:8080/"
        },
        "id": "LXkAO4urYYau",
        "outputId": "0b41e87b-2223-4ef8-f446-4ddde6ee17e8"
      },
      "execution_count": 36,
      "outputs": [
        {
          "output_type": "stream",
          "name": "stdout",
          "text": [
            "1/1 [==============================] - 0s 393ms/step\n",
            "[ 2 25 14 36 40 19]\n"
          ]
        }
      ]
    }
  ]
}