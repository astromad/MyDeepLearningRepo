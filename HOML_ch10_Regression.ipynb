{
  "nbformat": 4,
  "nbformat_minor": 0,
  "metadata": {
    "colab": {
      "name": "HOML_ch10_Regression.ipynb",
      "provenance": [],
      "collapsed_sections": [],
      "authorship_tag": "ABX9TyOAacDLPvUzcBPnGd5o/Ife",
      "include_colab_link": true
    },
    "kernelspec": {
      "name": "python3",
      "display_name": "Python 3"
    }
  },
  "cells": [
    {
      "cell_type": "markdown",
      "metadata": {
        "id": "view-in-github",
        "colab_type": "text"
      },
      "source": [
        "<a href=\"https://colab.research.google.com/github/astromad/MyDeepLearningRepo/blob/master/HOML_ch10_Regression.ipynb\" target=\"_parent\"><img src=\"https://colab.research.google.com/assets/colab-badge.svg\" alt=\"Open In Colab\"/></a>"
      ]
    },
    {
      "cell_type": "code",
      "metadata": {
        "id": "DQ9XfHltjx95",
        "colab_type": "code",
        "colab": {}
      },
      "source": [
        ""
      ],
      "execution_count": null,
      "outputs": []
    },
    {
      "cell_type": "code",
      "metadata": {
        "id": "YVPWhT4yxbGE",
        "colab_type": "code",
        "colab": {}
      },
      "source": [
        "import tensorflow as tf\n",
        "from tensorflow import keras\n",
        "import pandas as pd\n",
        "import numpy as np\n",
        "import matplotlib.pyplot as plt\n",
        "import matplotlib.image as mpimg\n",
        "from sklearn.datasets import fetch_california_housing\n",
        "from sklearn.model_selection import train_test_split\n",
        "from sklearn.preprocessing import StandardScaler\n"
      ],
      "execution_count": null,
      "outputs": []
    },
    {
      "cell_type": "code",
      "metadata": {
        "id": "XpWZs_l1OZaS",
        "colab_type": "code",
        "colab": {}
      },
      "source": [
        "def load_dataset():\n",
        "  print('----Loading Data----')\n",
        "  housing = fetch_california_housing()\n",
        "  X_train_full,X_test, Y_train_full,Y_test = train_test_split(housing.data,housing.target)\n",
        "  X_train,X_valid, Y_train,Y_valid = train_test_split(X_train_full,Y_train_full)\n",
        "  scaler = StandardScaler()\n",
        "  X_train = scaler.fit_transform(X_train)\n",
        "  X_valid = scaler.transform(X_valid)\n",
        "  X_test = scaler.transform(X_test)\n",
        "\n",
        "  print('Full training set shape',X_train_full.shape)\n",
        "  print('Full test set shape',X_test.shape)\n",
        "  print('training set shape',X_train.shape)\n",
        "  print('validation set shape',X_valid.shape)\n",
        "  return (X_train, Y_train), (X_valid, Y_valid), (X_test,Y_test)"
      ],
      "execution_count": null,
      "outputs": []
    },
    {
      "cell_type": "code",
      "metadata": {
        "id": "4fVfU75VP_0X",
        "colab_type": "code",
        "colab": {}
      },
      "source": [
        "def build_model(X_train,name='Default Model'):\n",
        "  print('----Building Model----')\n",
        "  input_shape = X_train.shape[1:]\n",
        "  output_shape =1\n",
        "  print('input shape',input_shape)\n",
        "  print('output shape',output_shape)\n",
        "  model = keras.models.Sequential(name='My_Regression_Model')\n",
        "  model.add(keras.layers.Input(shape=input_shape))\n",
        "  model.add(keras.layers.Dense(30,activation='relu',name='L_dense1'))\n",
        "  model.add(keras.layers.Dense(output_shape,name='L_output'))\n",
        "  return model"
      ],
      "execution_count": null,
      "outputs": []
    },
    {
      "cell_type": "code",
      "metadata": {
        "id": "70mRtZNBQgM2",
        "colab_type": "code",
        "colab": {}
      },
      "source": [
        "def displayModelGraph(model):\n",
        "  print('----Displaying Model Graph----')\n",
        "  print(model.summary())\n",
        "  print(model.layers)\n",
        "  keras.utils.plot_model(model, to_file=model.name+'.png')\n",
        "  #SVG(keras.utils.model_to_dot(model).create(prog='dot', format='svg'))\n",
        "  img=mpimg.imread(model.name+'.png')\n",
        "  imgplot = plt.imshow(img)\n",
        "  plt.show()"
      ],
      "execution_count": null,
      "outputs": []
    },
    {
      "cell_type": "code",
      "metadata": {
        "id": "N8AKwt5YELz6",
        "colab_type": "code",
        "colab": {}
      },
      "source": [
        "def modelPredict(model, X_test, Y_test, samples=3):\n",
        "  print('----Predicting Model----')\n",
        "  X_new = X_test[:samples]\n",
        "  Y_prob = model.predict(X_new)\n",
        "  print(\"Probability from Model:\")\n",
        "  print(Y_prob.round(2))\n",
        "  # Y_pred = model.predict_classes(X_new)\n",
        "  # print(Y_pred)\n",
        "  Y_pred = np.argmax(Y_prob, axis=-1)\n",
        "  # print(Y_pred)\n",
        "  #print(\"prediction from Model:\")\n",
        "  #print(np.array(classes)[Y_pred].reshape(-1, 1))\n",
        "  print('Label data:')\n",
        "  print(Y_test[:samples])"
      ],
      "execution_count": null,
      "outputs": []
    },
    {
      "cell_type": "code",
      "metadata": {
        "id": "dfRRp9KDRjAV",
        "colab_type": "code",
        "colab": {}
      },
      "source": [
        "def showWeights(model,layer=0):\n",
        "  print('----Display Weights----')\n",
        "  weights,biasses = model.layers[layer].get_weights()\n",
        "  print('weights shape',weights.shape)\n",
        "  print('bias shape',biasses.shape)\n",
        "  print(weights[0])\n",
        "  print(biasses)"
      ],
      "execution_count": null,
      "outputs": []
    },
    {
      "cell_type": "code",
      "metadata": {
        "id": "YcAflZa8Tk_W",
        "colab_type": "code",
        "colab": {}
      },
      "source": [
        "def displayLoss(history):\n",
        "  print('----Plotting Loss----')\n",
        "  pd.DataFrame(history.history).plot(figsize=(8,5))\n",
        "  plt.grid(True)\n",
        "  plt.gca().set_ylim(0,1)\n",
        "  plt.show()"
      ],
      "execution_count": null,
      "outputs": []
    },
    {
      "cell_type": "code",
      "metadata": {
        "id": "bzczBDmAUTwC",
        "colab_type": "code",
        "colab": {}
      },
      "source": [
        "def evaluateModel(model,X_test,Y_test):\n",
        "  print('----Evaluating Model----')\n",
        "  score = model.evaluate(X_test, Y_test, verbose=0)\n",
        "  print('Model evaluation on test set:')\n",
        "  print(f'Test loss: {score}')"
      ],
      "execution_count": null,
      "outputs": []
    },
    {
      "cell_type": "code",
      "metadata": {
        "id": "hdswu0Erftq2",
        "colab_type": "code",
        "colab": {}
      },
      "source": [
        "def plot_history(history):\n",
        "  print('----Plotting Loss----')\n",
        "  loss = history.history['loss']\n",
        "  val_loss = history.history['val_loss']\n",
        "  x = range(1, len(loss) + 1)\n",
        "\n",
        "  plt.figure(figsize=(12, 5))\n",
        "  plt.subplot(1, 2, 2)\n",
        "  plt.plot(x, loss, 'b', label='Training loss')\n",
        "  plt.plot(x, val_loss, 'r', label='Validation loss')\n",
        "  plt.title('Training and validation loss')\n",
        "  plt.legend()"
      ],
      "execution_count": null,
      "outputs": []
    },
    {
      "cell_type": "code",
      "metadata": {
        "id": "i_2prvEPRx_W",
        "colab_type": "code",
        "colab": {}
      },
      "source": [
        "def main():\n",
        "  print('Tensorflow Version',tf.__version__)\n",
        "  print('Keras Version',keras.__version__)\n",
        "  (X_train, Y_train), (X_valid,Y_valid), (X_test, Y_test) = load_dataset()\n",
        "  model = build_model(X_train,name='My_Regression_Model')\n",
        "  displayModelGraph(model)\n",
        "  showWeights(model,layer=1)\n",
        "  model.compile(loss='mse',\n",
        "              optimizer='sgd')\n",
        "  history= model.fit(X_train,Y_train,epochs=30,validation_data=(X_valid,Y_valid))\n",
        "  displayLoss(history)\n",
        "  plot_history(history)\n",
        "  evaluateModel(model,X_test,Y_test)\n",
        "  modelPredict(model, X_test, Y_test, samples=5)\n",
        "  "
      ],
      "execution_count": null,
      "outputs": []
    },
    {
      "cell_type": "code",
      "metadata": {
        "id": "bQL-0haBVPCR",
        "colab_type": "code",
        "colab": {}
      },
      "source": [
        "main()"
      ],
      "execution_count": null,
      "outputs": []
    }
  ]
}