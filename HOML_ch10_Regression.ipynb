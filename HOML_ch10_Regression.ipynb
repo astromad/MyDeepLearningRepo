{
  "nbformat": 4,
  "nbformat_minor": 0,
  "metadata": {
    "colab": {
      "name": "HOML_ch10_Regression.ipynb",
      "provenance": [],
      "collapsed_sections": [],
      "authorship_tag": "ABX9TyN6omxFvMagNKlmbcAorO71",
      "include_colab_link": true
    },
    "kernelspec": {
      "name": "python3",
      "display_name": "Python 3"
    }
  },
  "cells": [
    {
      "cell_type": "markdown",
      "metadata": {
        "id": "view-in-github",
        "colab_type": "text"
      },
      "source": [
        "<a href=\"https://colab.research.google.com/github/astromad/MyDeepLearningRepo/blob/master/HOML_ch10_Regression.ipynb\" target=\"_parent\"><img src=\"https://colab.research.google.com/assets/colab-badge.svg\" alt=\"Open In Colab\"/></a>"
      ]
    },
    {
      "cell_type": "code",
      "metadata": {
        "id": "YVPWhT4yxbGE",
        "colab_type": "code",
        "colab": {}
      },
      "source": [
        "import tensorflow as tf\n",
        "from tensorflow import keras\n",
        "import pandas as pd\n",
        "import numpy as np\n",
        "import matplotlib.pyplot as plt\n",
        "import matplotlib.image as mpimg\n",
        "from sklearn.datasets import fetch_california_housing\n",
        "from sklearn.model_selection import train_test_split\n",
        "from sklearn.preprocessing import StandardScaler\n"
      ],
      "execution_count": 1,
      "outputs": []
    },
    {
      "cell_type": "code",
      "metadata": {
        "id": "XpWZs_l1OZaS",
        "colab_type": "code",
        "colab": {}
      },
      "source": [
        "def load_dataset():\n",
        "  print('----Loading Data----')\n",
        "  housing = fetch_california_housing()\n",
        "  X_train_full,X_test, Y_train_full,Y_test = train_test_split(housing.data,housing.target)\n",
        "  X_train,X_valid, Y_train,Y_valid = train_test_split(X_train_full,Y_train_full)\n",
        "  scaler = StandardScaler()\n",
        "  X_train = scaler.fit_transform(X_train)\n",
        "  X_valid = scaler.transform(X_valid)\n",
        "  X_test = scaler.transform(X_test)\n",
        "\n",
        "  print('Full training set shape',X_train_full.shape)\n",
        "  print('Full test set shape',X_test.shape)\n",
        "  print('training set shape',X_train.shape)\n",
        "  print('validation set shape',X_valid.shape)\n",
        "  return (X_train, Y_train), (X_valid, Y_valid), (X_test,Y_test)"
      ],
      "execution_count": 2,
      "outputs": []
    },
    {
      "cell_type": "code",
      "metadata": {
        "id": "4fVfU75VP_0X",
        "colab_type": "code",
        "colab": {}
      },
      "source": [
        "def build_model(X_train,name='Default Model'):\n",
        "  print('----Building Model----')\n",
        "  input_shape = X_train.shape[1:]\n",
        "  output_shape =1\n",
        "  print('input shape',input_shape)\n",
        "  print('output shape',output_shape)\n",
        "  model = keras.models.Sequential(name='My_Classification_Model')\n",
        "  model.add(keras.layers.Input(shape=input_shape))\n",
        "  model.add(keras.layers.Dense(30,activation='relu',name='L_dense1'))\n",
        "  model.add(keras.layers.Dense(output_shape,name='L_output'))\n",
        "  return model"
      ],
      "execution_count": 3,
      "outputs": []
    },
    {
      "cell_type": "code",
      "metadata": {
        "id": "70mRtZNBQgM2",
        "colab_type": "code",
        "colab": {}
      },
      "source": [
        "def displayModelGraph(model):\n",
        "  print('----Displaying Model Graph----')\n",
        "  print(model.summary())\n",
        "  print(model.layers)\n",
        "  keras.utils.plot_model(model, to_file=model.name+'.png')\n",
        "  #SVG(keras.utils.model_to_dot(model).create(prog='dot', format='svg'))\n",
        "  img=mpimg.imread(model.name+'.png')\n",
        "  imgplot = plt.imshow(img)\n",
        "  plt.show()"
      ],
      "execution_count": 4,
      "outputs": []
    },
    {
      "cell_type": "code",
      "metadata": {
        "id": "N8AKwt5YELz6",
        "colab_type": "code",
        "colab": {}
      },
      "source": [
        "def modelPredict(model, X_test, Y_test, samples=3):\n",
        "  print('----Predicting Model----')\n",
        "  X_new = X_test[:samples]\n",
        "  Y_prob = model.predict(X_new)\n",
        "  print(\"Probability from Model:\")\n",
        "  print(Y_prob.round(2))\n",
        "  # Y_pred = model.predict_classes(X_new)\n",
        "  # print(Y_pred)\n",
        "  Y_pred = np.argmax(Y_prob, axis=-1)\n",
        "  # print(Y_pred)\n",
        "  #print(\"prediction from Model:\")\n",
        "  #print(np.array(classes)[Y_pred].reshape(-1, 1))\n",
        "  print('Label data:')\n",
        "  print(Y_test[:samples])"
      ],
      "execution_count": 5,
      "outputs": []
    },
    {
      "cell_type": "code",
      "metadata": {
        "id": "dfRRp9KDRjAV",
        "colab_type": "code",
        "colab": {}
      },
      "source": [
        "def showWeights(model,layer=0):\n",
        "  print('----Display Weights----')\n",
        "  weights,biasses = model.layers[layer].get_weights()\n",
        "  print('weights shape',weights.shape)\n",
        "  print('bias shape',biasses.shape)\n",
        "  print(weights[0])\n",
        "  print(biasses)"
      ],
      "execution_count": 6,
      "outputs": []
    },
    {
      "cell_type": "code",
      "metadata": {
        "id": "YcAflZa8Tk_W",
        "colab_type": "code",
        "colab": {}
      },
      "source": [
        "def displayLoss(history):\n",
        "  print('----Plotting Loss----')\n",
        "  pd.DataFrame(history.history).plot(figsize=(8,5))\n",
        "  plt.grid(True)\n",
        "  plt.gca().set_ylim(0,1)\n",
        "  plt.show()"
      ],
      "execution_count": 7,
      "outputs": []
    },
    {
      "cell_type": "code",
      "metadata": {
        "id": "bzczBDmAUTwC",
        "colab_type": "code",
        "colab": {}
      },
      "source": [
        "def evaluateModel(model,X_test,Y_test):\n",
        "  print('----Evaluating Model----')\n",
        "  score = model.evaluate(X_test, Y_test, verbose=0)\n",
        "  print('Model evaluation on test set:')\n",
        "  print(f'Test loss: {score}')"
      ],
      "execution_count": 8,
      "outputs": []
    },
    {
      "cell_type": "code",
      "metadata": {
        "id": "hdswu0Erftq2",
        "colab_type": "code",
        "colab": {}
      },
      "source": [
        "def plot_history(history):\n",
        "  print('----Plotting Loss----')\n",
        "  loss = history.history['loss']\n",
        "  val_loss = history.history['val_loss']\n",
        "  x = range(1, len(loss) + 1)\n",
        "\n",
        "  plt.figure(figsize=(12, 5))\n",
        "  plt.subplot(1, 2, 2)\n",
        "  plt.plot(x, loss, 'b', label='Training loss')\n",
        "  plt.plot(x, val_loss, 'r', label='Validation loss')\n",
        "  plt.title('Training and validation loss')\n",
        "  plt.legend()"
      ],
      "execution_count": 9,
      "outputs": []
    },
    {
      "cell_type": "code",
      "metadata": {
        "id": "i_2prvEPRx_W",
        "colab_type": "code",
        "colab": {}
      },
      "source": [
        "def main():\n",
        "  print('Tensorflow Version',tf.__version__)\n",
        "  print('Keras Version',keras.__version__)\n",
        "  (X_train, Y_train), (X_valid,Y_valid), (X_test, Y_test) = load_dataset()\n",
        "  model = build_model(X_train,name='My_Regression_Model')\n",
        "  displayModelGraph(model)\n",
        "  showWeights(model,layer=1)\n",
        "  model.compile(loss='mse',\n",
        "              optimizer='sgd')\n",
        "  history= model.fit(X_train,Y_train,epochs=30,validation_data=(X_valid,Y_valid))\n",
        "  displayLoss(history)\n",
        "  plot_history(history)\n",
        "  evaluateModel(model,X_test,Y_test)\n",
        "  modelPredict(model, X_test, Y_test, samples=5)\n",
        "  "
      ],
      "execution_count": 10,
      "outputs": []
    },
    {
      "cell_type": "code",
      "metadata": {
        "id": "bQL-0haBVPCR",
        "colab_type": "code",
        "colab": {
          "base_uri": "https://localhost:8080/",
          "height": 1000
        },
        "outputId": "ed395123-7db1-4370-d1ae-73de4a491b8e"
      },
      "source": [
        "main()"
      ],
      "execution_count": 11,
      "outputs": [
        {
          "output_type": "stream",
          "text": [
            "Tensorflow Version 2.2.0\n",
            "Keras Version 2.3.0-tf\n",
            "----Loading Data----\n",
            "Full training set shape (15480, 8)\n",
            "Full test set shape (5160, 8)\n",
            "training set shape (11610, 8)\n",
            "validation set shape (3870, 8)\n",
            "----Building Model----\n",
            "input shape (8,)\n",
            "output shape 1\n",
            "----Displaying Model Graph----\n",
            "Model: \"My_Classification_Model\"\n",
            "_________________________________________________________________\n",
            "Layer (type)                 Output Shape              Param #   \n",
            "=================================================================\n",
            "L_dense1 (Dense)             (None, 30)                270       \n",
            "_________________________________________________________________\n",
            "L_output (Dense)             (None, 1)                 31        \n",
            "=================================================================\n",
            "Total params: 301\n",
            "Trainable params: 301\n",
            "Non-trainable params: 0\n",
            "_________________________________________________________________\n",
            "None\n",
            "[<tensorflow.python.keras.layers.core.Dense object at 0x7f4c5cb820b8>, <tensorflow.python.keras.layers.core.Dense object at 0x7f4c5cb82080>]\n"
          ],
          "name": "stdout"
        },
        {
          "output_type": "display_data",
          "data": {
            "image/png": "[encoded data removed]",
            "text/plain": [
              "<Figure size 432x288 with 1 Axes>"
            ]
          },
          "metadata": {
            "tags": [],
            "needs_background": "light"
          }
        },
        {
          "output_type": "stream",
          "text": [
            "----Display Weights----\n",
            "weights shape (30, 1)\n",
            "bias shape (1,)\n",
            "[-0.06930849]\n",
            "[0.]\n",
            "Epoch 1/30\n",
            "363/363 [==============================] - 1s 2ms/step - loss: 1.8579 - val_loss: 0.6115\n",
            "Epoch 2/30\n",
            "363/363 [==============================] - 1s 1ms/step - loss: 0.5485 - val_loss: 0.4705\n",
            "Epoch 3/30\n",
            "363/363 [==============================] - 1s 1ms/step - loss: 0.4621 - val_loss: 0.4287\n",
            "Epoch 4/30\n",
            "363/363 [==============================] - 1s 1ms/step - loss: 0.4336 - val_loss: 0.4158\n",
            "Epoch 5/30\n",
            "363/363 [==============================] - 1s 1ms/step - loss: 0.4265 - val_loss: 0.4066\n",
            "Epoch 6/30\n",
            "363/363 [==============================] - 1s 1ms/step - loss: 0.4150 - val_loss: 0.4056\n",
            "Epoch 7/30\n",
            "363/363 [==============================] - 1s 1ms/step - loss: 0.4099 - val_loss: 0.4007\n",
            "Epoch 8/30\n",
            "363/363 [==============================] - 1s 1ms/step - loss: 0.4211 - val_loss: 0.4000\n",
            "Epoch 9/30\n",
            "363/363 [==============================] - 1s 1ms/step - loss: 0.4033 - val_loss: 0.3994\n",
            "Epoch 10/30\n",
            "363/363 [==============================] - 1s 1ms/step - loss: 0.3988 - val_loss: 0.3917\n",
            "Epoch 11/30\n",
            "363/363 [==============================] - 1s 1ms/step - loss: 0.3949 - val_loss: 0.3956\n",
            "Epoch 12/30\n",
            "363/363 [==============================] - 1s 1ms/step - loss: 0.3915 - val_loss: 0.3889\n",
            "Epoch 13/30\n",
            "363/363 [==============================] - 1s 1ms/step - loss: 0.3887 - val_loss: 0.3852\n",
            "Epoch 14/30\n",
            "363/363 [==============================] - 1s 1ms/step - loss: 0.3869 - val_loss: 0.3834\n",
            "Epoch 15/30\n",
            "363/363 [==============================] - 0s 1ms/step - loss: 0.3847 - val_loss: 0.3835\n",
            "Epoch 16/30\n",
            "363/363 [==============================] - 1s 1ms/step - loss: 0.3835 - val_loss: 0.3865\n",
            "Epoch 17/30\n",
            "363/363 [==============================] - 1s 1ms/step - loss: 0.3797 - val_loss: 0.3776\n",
            "Epoch 18/30\n",
            "363/363 [==============================] - 1s 1ms/step - loss: 0.3777 - val_loss: 0.3744\n",
            "Epoch 19/30\n",
            "363/363 [==============================] - 1s 1ms/step - loss: 0.3757 - val_loss: 0.3750\n",
            "Epoch 20/30\n",
            "363/363 [==============================] - 1s 1ms/step - loss: 0.3732 - val_loss: 0.3766\n",
            "Epoch 21/30\n",
            "363/363 [==============================] - 1s 1ms/step - loss: 0.3741 - val_loss: 0.3723\n",
            "Epoch 22/30\n",
            "363/363 [==============================] - 1s 1ms/step - loss: 0.3701 - val_loss: 0.3733\n",
            "Epoch 23/30\n",
            "363/363 [==============================] - 1s 1ms/step - loss: 0.3685 - val_loss: 0.3709\n",
            "Epoch 24/30\n",
            "363/363 [==============================] - 1s 1ms/step - loss: 0.3653 - val_loss: 0.3702\n",
            "Epoch 25/30\n",
            "363/363 [==============================] - 1s 1ms/step - loss: 0.3635 - val_loss: 0.3713\n",
            "Epoch 26/30\n",
            "363/363 [==============================] - 1s 1ms/step - loss: 0.4158 - val_loss: 0.3714\n",
            "Epoch 27/30\n",
            "363/363 [==============================] - 1s 1ms/step - loss: 0.3700 - val_loss: 0.3656\n",
            "Epoch 28/30\n",
            "363/363 [==============================] - 1s 1ms/step - loss: 0.3664 - val_loss: 0.3617\n",
            "Epoch 29/30\n",
            "363/363 [==============================] - 1s 1ms/step - loss: 0.3636 - val_loss: 0.3618\n",
            "Epoch 30/30\n",
            "363/363 [==============================] - 0s 1ms/step - loss: 0.3607 - val_loss: 0.3622\n",
            "----Plotting Loss----\n"
          ],
          "name": "stdout"
        },
        {
          "output_type": "display_data",
          "data": {
            "image/png": "[encoded data removed]",
            "text/plain": [
              "<Figure size 576x360 with 1 Axes>"
            ]
          },
          "metadata": {
            "tags": [],
            "needs_background": "light"
          }
        },
        {
          "output_type": "stream",
          "text": [
            "----Plotting Loss----\n",
            "----Evaluating Model----\n",
            "Model evaluation on test set:\n",
            "Test loss: 0.36272722482681274\n",
            "----Predicting Model----\n",
            "Probability from Model:\n",
            "[[1.88]\n",
            " [1.  ]\n",
            " [4.02]\n",
            " [0.79]\n",
            " [3.  ]]\n",
            "Label data:\n",
            "[1.731   1.014   5.00001 0.697   5.     ]\n"
          ],
          "name": "stdout"
        },
        {
          "output_type": "display_data",
          "data": {
            "image/png": "[encoded data removed]",
            "text/plain": [
              "<Figure size 864x360 with 1 Axes>"
            ]
          },
          "metadata": {
            "tags": [],
            "needs_background": "light"
          }
        }
      ]
    }
  ]
}