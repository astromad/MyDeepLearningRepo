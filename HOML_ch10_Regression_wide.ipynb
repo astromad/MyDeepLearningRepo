{
  "nbformat": 4,
  "nbformat_minor": 0,
  "metadata": {
    "colab": {
      "name": "HOML_ch10_Regression_wide.ipynb",
      "provenance": [],
      "collapsed_sections": [],
      "authorship_tag": "ABX9TyPWcCMLqn2b0qKH4dXr1wm9",
      "include_colab_link": true
    },
    "kernelspec": {
      "name": "python3",
      "display_name": "Python 3"
    }
  },
  "cells": [
    {
      "cell_type": "markdown",
      "metadata": {
        "id": "view-in-github",
        "colab_type": "text"
      },
      "source": [
        "<a href=\"https://colab.research.google.com/github/astromad/MyDeepLearningRepo/blob/master/HOML_ch10_Regression_wide.ipynb\" target=\"_parent\"><img src=\"https://colab.research.google.com/assets/colab-badge.svg\" alt=\"Open In Colab\"/></a>"
      ]
    },
    {
      "cell_type": "code",
      "metadata": {
        "id": "YVPWhT4yxbGE",
        "colab_type": "code",
        "colab": {}
      },
      "source": [
        "import tensorflow as tf\n",
        "from tensorflow import keras\n",
        "import pandas as pd\n",
        "import numpy as np\n",
        "import matplotlib.pyplot as plt\n",
        "import matplotlib.image as mpimg\n",
        "from sklearn.datasets import fetch_california_housing\n",
        "from sklearn.model_selection import train_test_split\n",
        "from sklearn.preprocessing import StandardScaler\n"
      ],
      "execution_count": 1,
      "outputs": []
    },
    {
      "cell_type": "code",
      "metadata": {
        "id": "XpWZs_l1OZaS",
        "colab_type": "code",
        "colab": {}
      },
      "source": [
        "def load_dataset():\n",
        "  print('----Loading Data----')\n",
        "  housing = fetch_california_housing()\n",
        "  X_train_full,X_test, Y_train_full,Y_test = train_test_split(housing.data,housing.target)\n",
        "  X_train,X_valid, Y_train,Y_valid = train_test_split(X_train_full,Y_train_full)\n",
        "  scaler = StandardScaler()\n",
        "  X_train = scaler.fit_transform(X_train)\n",
        "  X_valid = scaler.transform(X_valid)\n",
        "  X_test = scaler.transform(X_test)\n",
        "\n",
        "  print('Full training set shape',X_train_full.shape)\n",
        "  print('Full test set shape',X_test.shape)\n",
        "  print('training set shape',X_train.shape)\n",
        "  print('validation set shape',X_valid.shape)\n",
        "  return (X_train, Y_train), (X_valid, Y_valid), (X_test,Y_test)"
      ],
      "execution_count": 2,
      "outputs": []
    },
    {
      "cell_type": "code",
      "metadata": {
        "id": "4fVfU75VP_0X",
        "colab_type": "code",
        "colab": {}
      },
      "source": [
        "def build_model(X_train,name='Default Model'):\n",
        "  print('----Building Model----')\n",
        "  input_shape = X_train.shape[1:]\n",
        "  output_shape =1\n",
        "  print('input shape',input_shape)\n",
        "  print('output shape',output_shape)\n",
        "  \n",
        "  input=keras.layers.Input(shape=input_shape)\n",
        "  hidden1 =keras.layers.Dense(30,activation='relu',name='L_dense1')(input)\n",
        "  hidden2 =keras.layers.Dense(30,activation='relu',name='L_dense2')(hidden1)\n",
        "  concat = keras.layers.Concatenate()([input,hidden2])\n",
        "  output = keras.layers.Dense(output_shape,name='L_output')(concat)\n",
        "  model = keras.Model(inputs=[input], outputs=[output],name='My_Regression_Model')\n",
        "  return model"
      ],
      "execution_count": 12,
      "outputs": []
    },
    {
      "cell_type": "code",
      "metadata": {
        "id": "70mRtZNBQgM2",
        "colab_type": "code",
        "colab": {}
      },
      "source": [
        "def displayModelGraph(model):\n",
        "  print('----Displaying Model Graph----')\n",
        "  print(model.summary())\n",
        "  print(model.layers)\n",
        "  keras.utils.plot_model(model, to_file=model.name+'.png')\n",
        "  #SVG(keras.utils.model_to_dot(model).create(prog='dot', format='svg'))\n",
        "  img=mpimg.imread(model.name+'.png')\n",
        "  imgplot = plt.imshow(img)\n",
        "  plt.show()"
      ],
      "execution_count": 4,
      "outputs": []
    },
    {
      "cell_type": "code",
      "metadata": {
        "id": "N8AKwt5YELz6",
        "colab_type": "code",
        "colab": {}
      },
      "source": [
        "def modelPredict(model, X_test, Y_test, samples=3):\n",
        "  print('----Predicting Model----')\n",
        "  X_new = X_test[:samples]\n",
        "  Y_prob = model.predict(X_new)\n",
        "  print(\"Probability from Model:\")\n",
        "  print(Y_prob.round(2))\n",
        "  # Y_pred = model.predict_classes(X_new)\n",
        "  # print(Y_pred)\n",
        "  Y_pred = np.argmax(Y_prob, axis=-1)\n",
        "  # print(Y_pred)\n",
        "  #print(\"prediction from Model:\")\n",
        "  #print(np.array(classes)[Y_pred].reshape(-1, 1))\n",
        "  print('Label data:')\n",
        "  print(Y_test[:samples])"
      ],
      "execution_count": 5,
      "outputs": []
    },
    {
      "cell_type": "code",
      "metadata": {
        "id": "dfRRp9KDRjAV",
        "colab_type": "code",
        "colab": {}
      },
      "source": [
        "def showWeights(model,layer=0):\n",
        "  print('----Display Weights----')\n",
        "  weights,biasses = model.layers[layer].get_weights()\n",
        "  print('weights shape',weights.shape)\n",
        "  print('bias shape',biasses.shape)\n",
        "  print(weights[0])\n",
        "  print(biasses)"
      ],
      "execution_count": 6,
      "outputs": []
    },
    {
      "cell_type": "code",
      "metadata": {
        "id": "YcAflZa8Tk_W",
        "colab_type": "code",
        "colab": {}
      },
      "source": [
        "def displayLoss(history):\n",
        "  print('----Plotting Loss----')\n",
        "  pd.DataFrame(history.history).plot(figsize=(8,5))\n",
        "  plt.grid(True)\n",
        "  plt.gca().set_ylim(0,1)\n",
        "  plt.show()"
      ],
      "execution_count": 7,
      "outputs": []
    },
    {
      "cell_type": "code",
      "metadata": {
        "id": "bzczBDmAUTwC",
        "colab_type": "code",
        "colab": {}
      },
      "source": [
        "def evaluateModel(model,X_test,Y_test):\n",
        "  print('----Evaluating Model----')\n",
        "  score = model.evaluate(X_test, Y_test, verbose=0)\n",
        "  print('Model evaluation on test set:')\n",
        "  print(f'Test loss: {score}')"
      ],
      "execution_count": 8,
      "outputs": []
    },
    {
      "cell_type": "code",
      "metadata": {
        "id": "hdswu0Erftq2",
        "colab_type": "code",
        "colab": {}
      },
      "source": [
        "def plot_history(history):\n",
        "  print('----Plotting Loss----')\n",
        "  loss = history.history['loss']\n",
        "  val_loss = history.history['val_loss']\n",
        "  x = range(1, len(loss) + 1)\n",
        "\n",
        "  plt.figure(figsize=(12, 5))\n",
        "  plt.subplot(1, 2, 2)\n",
        "  plt.plot(x, loss, 'b', label='Training loss')\n",
        "  plt.plot(x, val_loss, 'r', label='Validation loss')\n",
        "  plt.title('Training and validation loss')\n",
        "  plt.legend()"
      ],
      "execution_count": 9,
      "outputs": []
    },
    {
      "cell_type": "code",
      "metadata": {
        "id": "i_2prvEPRx_W",
        "colab_type": "code",
        "colab": {}
      },
      "source": [
        "def main():\n",
        "  print('Tensorflow Version',tf.__version__)\n",
        "  print('Keras Version',keras.__version__)\n",
        "  (X_train, Y_train), (X_valid,Y_valid), (X_test, Y_test) = load_dataset()\n",
        "  model = build_model(X_train,name='My_Regression_Model')\n",
        "  displayModelGraph(model)\n",
        "  showWeights(model,layer=1)\n",
        "  model.compile(loss=\"mean_squared_error\", optimizer=keras.optimizers.SGD(lr=1e-3))\n",
        "  history= model.fit(X_train,Y_train,epochs=30,validation_data=(X_valid,Y_valid))\n",
        "  displayLoss(history)\n",
        "  plot_history(history)\n",
        "  evaluateModel(model,X_test,Y_test)\n",
        "  modelPredict(model, X_test, Y_test, samples=5)\n",
        "  "
      ],
      "execution_count": 18,
      "outputs": []
    },
    {
      "cell_type": "code",
      "metadata": {
        "id": "bQL-0haBVPCR",
        "colab_type": "code",
        "colab": {
          "base_uri": "https://localhost:8080/",
          "height": 1000
        },
        "outputId": "71390d0a-e87f-4f9c-b4e1-fdd9a0ed9309"
      },
      "source": [
        "main()"
      ],
      "execution_count": 19,
      "outputs": [
        {
          "output_type": "stream",
          "text": [
            "Tensorflow Version 2.2.0\n",
            "Keras Version 2.3.0-tf\n",
            "----Loading Data----\n",
            "Full training set shape (15480, 8)\n",
            "Full test set shape (5160, 8)\n",
            "training set shape (11610, 8)\n",
            "validation set shape (3870, 8)\n",
            "----Building Model----\n",
            "input shape (8,)\n",
            "output shape 1\n",
            "----Displaying Model Graph----\n",
            "Model: \"My_Regression_Model\"\n",
            "__________________________________________________________________________________________________\n",
            "Layer (type)                    Output Shape         Param #     Connected to                     \n",
            "==================================================================================================\n",
            "input_5 (InputLayer)            [(None, 8)]          0                                            \n",
            "__________________________________________________________________________________________________\n",
            "L_dense1 (Dense)                (None, 30)           270         input_5[0][0]                    \n",
            "__________________________________________________________________________________________________\n",
            "L_dense2 (Dense)                (None, 30)           930         L_dense1[0][0]                   \n",
            "__________________________________________________________________________________________________\n",
            "concatenate_4 (Concatenate)     (None, 38)           0           input_5[0][0]                    \n",
            "                                                                 L_dense2[0][0]                   \n",
            "__________________________________________________________________________________________________\n",
            "L_output (Dense)                (None, 1)            39          concatenate_4[0][0]              \n",
            "==================================================================================================\n",
            "Total params: 1,239\n",
            "Trainable params: 1,239\n",
            "Non-trainable params: 0\n",
            "__________________________________________________________________________________________________\n",
            "None\n",
            "[<tensorflow.python.keras.engine.input_layer.InputLayer object at 0x7f4e20ea5f60>, <tensorflow.python.keras.layers.core.Dense object at 0x7f4e20ea5f28>, <tensorflow.python.keras.layers.core.Dense object at 0x7f4e20ea56d8>, <tensorflow.python.keras.layers.merge.Concatenate object at 0x7f4e20ea56a0>, <tensorflow.python.keras.layers.core.Dense object at 0x7f4e1c7dfac8>]\n"
          ],
          "name": "stdout"
        },
        {
          "output_type": "display_data",
          "data": {
            "image/png": "[encoded data removed]",
            "text/plain": [
              "<Figure size 432x288 with 1 Axes>"
            ]
          },
          "metadata": {
            "tags": [],
            "needs_background": "light"
          }
        },
        {
          "output_type": "stream",
          "text": [
            "----Display Weights----\n",
            "weights shape (8, 30)\n",
            "bias shape (30,)\n",
            "[ 0.06916031 -0.14633003 -0.18831903 -0.03651729  0.24434707  0.12431338\n",
            "  0.26566932  0.37314025 -0.2554847   0.01462081  0.25448778  0.35416278\n",
            "  0.35441062 -0.06976339  0.17968926  0.39264026 -0.00149915 -0.37746075\n",
            " -0.2040585  -0.07876948  0.27990285 -0.2946871   0.2092168   0.27908346\n",
            "  0.11683074  0.27099624 -0.02067173 -0.37460005  0.07995152  0.29824087]\n",
            "[0. 0. 0. 0. 0. 0. 0. 0. 0. 0. 0. 0. 0. 0. 0. 0. 0. 0. 0. 0. 0. 0. 0. 0.\n",
            " 0. 0. 0. 0. 0. 0.]\n",
            "Epoch 1/30\n",
            "363/363 [==============================] - 1s 2ms/step - loss: 1.7584 - val_loss: 0.8057\n",
            "Epoch 2/30\n",
            "363/363 [==============================] - 1s 2ms/step - loss: 0.7068 - val_loss: 0.7121\n",
            "Epoch 3/30\n",
            "363/363 [==============================] - 1s 2ms/step - loss: 0.6568 - val_loss: 0.6856\n",
            "Epoch 4/30\n",
            "363/363 [==============================] - 1s 2ms/step - loss: 0.6163 - val_loss: 0.6326\n",
            "Epoch 5/30\n",
            "363/363 [==============================] - 1s 2ms/step - loss: 0.5921 - val_loss: 0.6159\n",
            "Epoch 6/30\n",
            "363/363 [==============================] - 1s 2ms/step - loss: 0.5699 - val_loss: 0.5891\n",
            "Epoch 7/30\n",
            "363/363 [==============================] - 1s 2ms/step - loss: 0.5599 - val_loss: 0.5715\n",
            "Epoch 8/30\n",
            "363/363 [==============================] - 1s 2ms/step - loss: 0.5384 - val_loss: 0.5610\n",
            "Epoch 9/30\n",
            "363/363 [==============================] - 1s 2ms/step - loss: 0.5310 - val_loss: 0.5473\n",
            "Epoch 10/30\n",
            "363/363 [==============================] - 1s 2ms/step - loss: 0.5200 - val_loss: 0.5410\n",
            "Epoch 11/30\n",
            "363/363 [==============================] - 1s 2ms/step - loss: 0.5111 - val_loss: 0.5305\n",
            "Epoch 12/30\n",
            "363/363 [==============================] - 1s 2ms/step - loss: 0.5055 - val_loss: 0.5248\n",
            "Epoch 13/30\n",
            "363/363 [==============================] - 1s 2ms/step - loss: 0.4976 - val_loss: 0.5212\n",
            "Epoch 14/30\n",
            "363/363 [==============================] - 1s 2ms/step - loss: 0.4942 - val_loss: 0.5141\n",
            "Epoch 15/30\n",
            "363/363 [==============================] - 1s 2ms/step - loss: 0.4895 - val_loss: 0.5096\n",
            "Epoch 16/30\n",
            "363/363 [==============================] - 1s 2ms/step - loss: 0.4865 - val_loss: 0.5049\n",
            "Epoch 17/30\n",
            "363/363 [==============================] - 1s 2ms/step - loss: 0.4827 - val_loss: 0.5109\n",
            "Epoch 18/30\n",
            "363/363 [==============================] - 1s 2ms/step - loss: 0.4802 - val_loss: 0.5002\n",
            "Epoch 19/30\n",
            "363/363 [==============================] - 1s 2ms/step - loss: 0.4828 - val_loss: 0.4970\n",
            "Epoch 20/30\n",
            "363/363 [==============================] - 1s 2ms/step - loss: 0.4751 - val_loss: 0.4937\n",
            "Epoch 21/30\n",
            "363/363 [==============================] - 1s 2ms/step - loss: 0.4737 - val_loss: 0.4950\n",
            "Epoch 22/30\n",
            "363/363 [==============================] - 1s 2ms/step - loss: 0.4713 - val_loss: 0.4897\n",
            "Epoch 23/30\n",
            "363/363 [==============================] - 1s 2ms/step - loss: 0.4688 - val_loss: 0.4884\n",
            "Epoch 24/30\n",
            "363/363 [==============================] - 1s 2ms/step - loss: 0.4644 - val_loss: 0.4868\n",
            "Epoch 25/30\n",
            "363/363 [==============================] - 1s 2ms/step - loss: 0.4680 - val_loss: 0.4834\n",
            "Epoch 26/30\n",
            "363/363 [==============================] - 1s 2ms/step - loss: 0.4608 - val_loss: 0.4835\n",
            "Epoch 27/30\n",
            "363/363 [==============================] - 1s 2ms/step - loss: 0.4616 - val_loss: 0.4849\n",
            "Epoch 28/30\n",
            "363/363 [==============================] - 1s 2ms/step - loss: 0.4570 - val_loss: 0.4797\n",
            "Epoch 29/30\n",
            "363/363 [==============================] - 1s 2ms/step - loss: 0.4560 - val_loss: 0.4754\n",
            "Epoch 30/30\n",
            "363/363 [==============================] - 1s 2ms/step - loss: 0.4535 - val_loss: 0.4746\n",
            "----Plotting Loss----\n"
          ],
          "name": "stdout"
        },
        {
          "output_type": "display_data",
          "data": {
            "image/png": "[encoded data removed]",
            "text/plain": [
              "<Figure size 576x360 with 1 Axes>"
            ]
          },
          "metadata": {
            "tags": [],
            "needs_background": "light"
          }
        },
        {
          "output_type": "stream",
          "text": [
            "----Plotting Loss----\n",
            "----Evaluating Model----\n",
            "Model evaluation on test set:\n",
            "Test loss: 0.45614445209503174\n",
            "----Predicting Model----\n",
            "Probability from Model:\n",
            "[[1.56]\n",
            " [1.32]\n",
            " [2.37]\n",
            " [0.56]\n",
            " [1.17]]\n",
            "Label data:\n",
            "[0.984 2.644 1.342 0.709 0.788]\n"
          ],
          "name": "stdout"
        },
        {
          "output_type": "display_data",
          "data": {
            "image/png": "[encoded data removed]",
            "text/plain": [
              "<Figure size 864x360 with 1 Axes>"
            ]
          },
          "metadata": {
            "tags": [],
            "needs_background": "light"
          }
        }
      ]
    }
  ]
}