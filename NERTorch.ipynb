{
  "nbformat": 4,
  "nbformat_minor": 0,
  "metadata": {
    "colab": {
      "name": "NERTorch.ipynb",
      "provenance": [],
      "toc_visible": true,
      "mount_file_id": "1pUilXBbX6YD8_tum4wWFD-t6sAs3FIxI",
      "authorship_tag": "ABX9TyO72PS9PqzSGjo9v5JyxyJ6",
      "include_colab_link": true
    },
    "kernelspec": {
      "name": "python3",
      "display_name": "Python 3"
    },
    "accelerator": "GPU"
  },
  "cells": [
    {
      "cell_type": "markdown",
      "metadata": {
        "id": "view-in-github",
        "colab_type": "text"
      },
      "source": [
        "<a href=\"https://colab.research.google.com/github/astromad/MyDeepLearningRepo/blob/master/NERTorch.ipynb\" target=\"_parent\"><img src=\"https://colab.research.google.com/assets/colab-badge.svg\" alt=\"Open In Colab\"/></a>"
      ]
    },
    {
      "cell_type": "code",
      "metadata": {
        "id": "GFv2N7USHaw7",
        "colab_type": "code",
        "colab": {}
      },
      "source": [
        "!pip install simpletransformers"
      ],
      "execution_count": null,
      "outputs": []
    },
    {
      "cell_type": "code",
      "metadata": {
        "id": "3cMoPQh-SK74",
        "colab_type": "code",
        "colab": {}
      },
      "source": [
        "import numpy as np\n",
        "import pandas as pd\n",
        "from scipy.special import softmax\n",
        "import torch\n",
        "\n",
        "from simpletransformers.ner import NERModel\n",
        "from sklearn.model_selection import train_test_split\n"
      ],
      "execution_count": null,
      "outputs": []
    },
    {
      "cell_type": "code",
      "metadata": {
        "id": "J1D-6SocSSj8",
        "colab_type": "code",
        "colab": {}
      },
      "source": [
        "df1 = pd.read_csv(\"/content/drive/My Drive/ColabData/data.csv\",\n",
        "                encoding=\"ISO-8859-1\", error_bad_lines=False)\n",
        "# #df2 = None\n",
        "# frames = [df1,df2,df3]\n",
        "# df = pd.concat(frames)\n",
        "#df.head()\n",
        "\n",
        "# data = df1[['sentence_id', 'words', 'labels']]\n",
        "# print(data.head(30))\n",
        "\n",
        "train_df, eval_df = train_test_split(df1, test_size=0.2)"
      ],
      "execution_count": null,
      "outputs": []
    },
    {
      "cell_type": "code",
      "metadata": {
        "id": "3TdbmzbJKKp9",
        "colab_type": "code",
        "colab": {}
      },
      "source": [
        "# train_df = pd.DataFrame(df, columns=[\"sentence_id\", \"words\", \"labels\"])\n",
        "\n",
        "# eval_df = pd.DataFrame(df, columns=[\"sentence_id\", \"words\", \"labels\"])\n",
        "custom_labels = [\"O\", \"I-NAME\", \"I-DATE\",\"I-CCARD\",\"I-SSN\",\"I-PHONE\"]\n",
        "\n",
        "model = NERModel(\"bert\", \"bert-base-cased\" ,labels=custom_labels,use_cuda=True, args={\"n_gpu\":1,\"num_train_epochs\":3,\"overwrite_output_dir\": True, \"reprocess_input_data\": True})\n",
        "# # Train the model\n",
        "model.train_model(train_df)\n",
        "#torch.save(model.state_dict(), '/home/radmad/Desktop/OLD-DATA/MY-DeepLearning/PYTORCH/SavedModel/mymodelWeights.pt')\n",
        "# # Evaluate the model\n",
        "result, model_outputs, predictions = model.eval_model(eval_df)\n",
        "# # More detailed preditctions\n",
        "# for n, (preds, outs) in enumerate(zip(predictions, raw_outputs)):\n",
        "#     print(\"\\n___________________________\")\n",
        "#     print(\"Sentence: \", sentences[n])\n",
        "#     for pred, out in zip(preds, outs):\n",
        "#         key = list(pred.keys())[0]\n",
        "#         new_out = out[key]\n",
        "#         preds = list(softmax(np.mean(new_out, axis=-1)))\n",
        "#         print(key, pred[key], preds[np.argmax(preds)], preds)\n"
      ],
      "execution_count": null,
      "outputs": []
    },
    {
      "cell_type": "code",
      "metadata": {
        "id": "ass-DdC_RFei",
        "colab_type": "code",
        "colab": {}
      },
      "source": [
        "# Predictions on arbitary text strings\n",
        "sentences = [\"Murthy vanka born on 1975-25-08 and his phone number: 606-304-1400 and his ssn number is 636-88-1998\"]\n",
        "predictions, raw_outputs = model.predict(sentences)\n",
        "for i in predictions:\n",
        "    print(i)"
      ],
      "execution_count": null,
      "outputs": []
    }
  ]
}