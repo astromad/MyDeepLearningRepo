{
  "nbformat": 4,
  "nbformat_minor": 0,
  "metadata": {
    "colab": {
      "name": "pyTorch_gradient.ipynb",
      "provenance": [],
      "authorship_tag": "ABX9TyOstgsuzyBf86xVhKFKauVe",
      "include_colab_link": true
    },
    "kernelspec": {
      "name": "python3",
      "display_name": "Python 3"
    }
  },
  "cells": [
    {
      "cell_type": "markdown",
      "metadata": {
        "id": "view-in-github",
        "colab_type": "text"
      },
      "source": [
        "<a href=\"https://colab.research.google.com/github/astromad/MyDeepLearningRepo/blob/master/pyTorch_gradient.ipynb\" target=\"_parent\"><img src=\"https://colab.research.google.com/assets/colab-badge.svg\" alt=\"Open In Colab\"/></a>"
      ]
    },
    {
      "cell_type": "code",
      "metadata": {
        "id": "qZJQ8-hjl10h",
        "colab_type": "code",
        "colab": {
          "base_uri": "https://localhost:8080/",
          "height": 1000
        },
        "outputId": "98606f69-6b31-43df-cd64-8ed0d218f673"
      },
      "source": [
        "import torch\n",
        "import pdb\n",
        "import matplotlib.pyplot as plt\n",
        "import numpy as np\n",
        "x_data = [1.0, 2.0, 3.0]\n",
        "y_data = [2.0, 4.0, 6.0]\n",
        "w = torch.tensor([0.0], requires_grad=True)\n",
        "b = torch.tensor([0.0], requires_grad=True)\n",
        "\n",
        "# our model forward pass\n",
        "def forward(x):\n",
        "    return x * w + b\n",
        "\n",
        "# Loss function\n",
        "def lossf(y_pred, y_val):\n",
        "    return (y_pred - y_val) ** 2\n",
        "\n",
        "# Before training\n",
        "print(\"Prediction (before training)\",  4, forward(4).item())\n",
        "w_list = []\n",
        "mse_list = []\n",
        "iter_list = []\n",
        "# Training loop\n",
        "for epoch in range(10):\n",
        "    iter_list.append(epoch)\n",
        "    mse_list.append(loss_sum )\n",
        "    w_list.append(w.item())\n",
        "\n",
        "    loss_sum=0\n",
        "\n",
        "    for x_val, y_val in zip(x_data, y_data):\n",
        "        y_pred = forward(x_val) # 1) Forward pass\n",
        "        loss = lossf(y_pred, y_val) # 2) Compute loss\n",
        "        loss_sum =loss.item()\n",
        "        loss.backward() # 3) Back propagation to update weights\n",
        "        print(\"\\tgrad: \", x_val, y_val, w.data.item(),w.grad.item(),b.grad.item())\n",
        "        w.data = w.data - 0.03 * w.grad.item()\n",
        "        b.data = b.data - 0.03 * b.grad.item()\n",
        "        # Manually zero the gradients after updating weights\n",
        "        w.grad.data.zero_()\n",
        "        b.grad.data.zero_()\n",
        "    print(f\"Epoch: {epoch} | Loss: {loss.item()}\")\n",
        "\n",
        "# After training\n",
        "print(\"Prediction (after training)\",  4, forward(4).item())\n",
        "# Plot it all\n",
        "print(w_list)\n",
        "print(iter_list)\n",
        "plt.plot(iter_list, mse_list)\n",
        "plt.ylabel('Iterations')\n",
        "plt.xlabel('w')\n",
        "plt.show()"
      ],
      "execution_count": 49,
      "outputs": [
        {
          "output_type": "stream",
          "text": [
            "Prediction (before training) 4 0.0\n",
            "\tgrad:  1.0 2.0 0.0 -4.0 -4.0\n",
            "\tgrad:  2.0 4.0 0.11999999731779099 -14.5600004196167 -7.28000020980835\n",
            "\tgrad:  3.0 6.0 0.5568000078201294 -23.947200775146484 -7.982399940490723\n",
            "Epoch: 0 | Loss: 15.92967700958252\n",
            "\tgrad:  1.0 2.0 1.2752161026000977 -0.2938237190246582 -0.2938237190246582\n",
            "\tgrad:  2.0 4.0 1.284030795097351 -3.3810062408447266 -1.6905031204223633\n",
            "\tgrad:  3.0 6.0 1.3854609727859497 -7.2372894287109375 -2.4124298095703125\n",
            "Epoch: 1 | Loss: 1.4549543857574463\n",
            "\tgrad:  1.0 2.0 1.6025795936584473 0.6247086524963379 0.6247086524963379\n",
            "\tgrad:  2.0 4.0 1.5838383436203003 -0.5651588439941406 -0.2825794219970703\n",
            "\tgrad:  3.0 6.0 1.6007931232452393 -2.9886560440063477 -0.9962186813354492\n",
            "Epoch: 2 | Loss: 0.24811291694641113\n",
            "\tgrad:  1.0 2.0 1.6904528141021729 0.8397006988525391 0.8397006988525391\n",
            "\tgrad:  2.0 4.0 1.6652617454528809 0.13891983032226562 0.06945991516113281\n",
            "\tgrad:  3.0 6.0 1.6610941886901855 -1.887568473815918 -0.6291894912719727\n",
            "Epoch: 3 | Loss: 0.09896985441446304\n",
            "\tgrad:  1.0 2.0 1.7177212238311768 0.877439022064209 0.877439022064209\n",
            "\tgrad:  2.0 4.0 1.691398024559021 0.30988502502441406 0.15494251251220703\n",
            "\tgrad:  3.0 6.0 1.6821014881134033 -1.5820112228393555 -0.5273370742797852\n",
            "Epoch: 4 | Loss: 0.06952109932899475\n",
            "\tgrad:  1.0 2.0 1.7295618057250977 0.8708171844482422 0.8708171844482422\n",
            "\tgrad:  2.0 4.0 1.703437328338623 0.3463878631591797 0.17319393157958984\n",
            "\tgrad:  3.0 6.0 1.693045735359192 -1.4780158996582031 -0.4926719665527344\n",
            "Epoch: 5 | Loss: 0.06068141758441925\n",
            "\tgrad:  1.0 2.0 1.7373862266540527 0.8533859252929688 0.8533859252929688\n",
            "\tgrad:  2.0 4.0 1.7117846012115479 0.34909820556640625 0.17454910278320312\n",
            "\tgrad:  3.0 6.0 1.701311707496643 -1.4255762100219727 -0.4751920700073242\n",
            "Epoch: 6 | Loss: 0.05645187571644783\n",
            "\tgrad:  1.0 2.0 1.7440789937973022 0.8336067199707031 0.8336067199707031\n",
            "\tgrad:  2.0 4.0 1.7190707921981812 0.3434314727783203 0.17171573638916016\n",
            "\tgrad:  3.0 6.0 1.7087678909301758 -1.386789321899414 -0.4622631072998047\n",
            "Epoch: 7 | Loss: 0.05342179536819458\n",
            "\tgrad:  1.0 2.0 1.7503715753555298 0.8136086463928223 0.8136086463928223\n",
            "\tgrad:  2.0 4.0 1.7259633541107178 0.3358039855957031 0.16790199279785156\n",
            "\tgrad:  3.0 6.0 1.7158892154693604 -1.3520679473876953 -0.45068931579589844\n",
            "Epoch: 8 | Loss: 0.05078021436929703\n",
            "\tgrad:  1.0 2.0 1.7564512491226196 0.7939186096191406 0.7939186096191406\n",
            "\tgrad:  2.0 4.0 1.7326337099075317 0.3278312683105469 0.16391563415527344\n",
            "\tgrad:  3.0 6.0 1.7227988243103027 -1.3189830780029297 -0.43966102600097656\n",
            "Epoch: 9 | Loss: 0.04832545295357704\n",
            "Prediction (after training) 4 7.674436092376709\n",
            "[0.0, 1.2752161026000977, 1.6025795936584473, 1.6904528141021729, 1.7177212238311768, 1.7295618057250977, 1.7373862266540527, 1.7440789937973022, 1.7503715753555298, 1.7564512491226196]\n",
            "[0, 1, 2, 3, 4, 5, 6, 7, 8, 9]\n"
          ],
          "name": "stdout"
        },
        {
          "output_type": "display_data",
          "data": {
            "image/png": "[encoded data removed]",
            "text/plain": [
              "<Figure size 432x288 with 1 Axes>"
            ]
          },
          "metadata": {
            "tags": [],
            "needs_background": "light"
          }
        }
      ]
    }
  ]
}